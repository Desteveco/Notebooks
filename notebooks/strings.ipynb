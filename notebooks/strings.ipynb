{
 "cells": [
  {
   "cell_type": "markdown",
   "metadata": {},
   "source": [
    "# Strings\n",
    "\n",
    "### Crea un string de 4 letras y asignalo a una variable"
   ]
  },
  {
   "cell_type": "code",
   "execution_count": 2,
   "metadata": {},
   "outputs": [
    {
     "name": "stdout",
     "output_type": "stream",
     "text": [
      "Spam\n"
     ]
    }
   ],
   "source": [
    "S = \"Spam\"\n",
    "\n",
    "print(S)\n",
    "\n",
    "#Spam"
   ]
  },
  {
   "cell_type": "markdown",
   "metadata": {},
   "source": [
    "### Lenght\n"
   ]
  },
  {
   "cell_type": "code",
   "execution_count": 3,
   "metadata": {},
   "outputs": [
    {
     "data": {
      "text/plain": [
       "4"
      ]
     },
     "execution_count": 3,
     "metadata": {},
     "output_type": "execute_result"
    }
   ],
   "source": [
    "len(S)\n",
    "\n",
    "#4"
   ]
  },
  {
   "cell_type": "markdown",
   "metadata": {},
   "source": [
    "#### En python los indices empiezan en el 0 con la primera letra\n",
    "\n",
    "![Offsets and slices](../Imagenes/indexing.png)\n"
   ]
  },
  {
   "cell_type": "code",
   "execution_count": 10,
   "metadata": {},
   "outputs": [
    {
     "name": "stdout",
     "output_type": "stream",
     "text": [
      "S\n",
      "p\n"
     ]
    },
    {
     "ename": "IndexError",
     "evalue": "string index out of range",
     "output_type": "error",
     "traceback": [
      "\u001b[1;31m---------------------------------------------------------------------------\u001b[0m",
      "\u001b[1;31mIndexError\u001b[0m                                Traceback (most recent call last)",
      "Cell \u001b[1;32mIn[10], line 6\u001b[0m\n\u001b[0;32m      3\u001b[0m \u001b[38;5;28mprint\u001b[39m(S[\u001b[38;5;241m1\u001b[39m])\n\u001b[0;32m      5\u001b[0m \u001b[38;5;66;03m#Si te pasas de los limites de la cadena, te saldra un IndexError\u001b[39;00m\n\u001b[1;32m----> 6\u001b[0m \u001b[38;5;28mprint\u001b[39m(\u001b[43mS\u001b[49m\u001b[43m[\u001b[49m\u001b[38;5;241;43m8\u001b[39;49m\u001b[43m]\u001b[49m)\n\u001b[0;32m      8\u001b[0m \u001b[38;5;28mprint\u001b[39m(S[\u001b[38;5;241m-\u001b[39m\u001b[38;5;241m1\u001b[39m])\n",
      "\u001b[1;31mIndexError\u001b[0m: string index out of range"
     ]
    }
   ],
   "source": [
    "print(S[0]) \n",
    "\n",
    "print(S[1])\n",
    "\n",
    "#Si te pasas de los limites de la cadena, te saldra un IndexError\n",
    "print(S[8])"
   ]
  },
  {
   "cell_type": "code",
   "execution_count": 12,
   "metadata": {},
   "outputs": [
    {
     "name": "stdout",
     "output_type": "stream",
     "text": [
      "m\n",
      "pa\n",
      "pam\n",
      "Spa\n",
      "Spa\n",
      "Spam\n",
      "Spamxyz\n",
      "SpamSpamSpamSpamSpamSpamSpamSpam\n"
     ]
    },
    {
     "ename": "TypeError",
     "evalue": "'str' object does not support item assignment",
     "output_type": "error",
     "traceback": [
      "\u001b[1;31m---------------------------------------------------------------------------\u001b[0m",
      "\u001b[1;31mTypeError\u001b[0m                                 Traceback (most recent call last)",
      "Cell \u001b[1;32mIn[12], line 39\u001b[0m\n\u001b[0;32m     33\u001b[0m \u001b[38;5;28mprint\u001b[39m(S\u001b[38;5;241m*\u001b[39m\u001b[38;5;241m8\u001b[39m)\n\u001b[0;32m     35\u001b[0m \u001b[38;5;66;03m#SpamSpamSpamSpamSpamSpamSpamSpam\u001b[39;00m\n\u001b[0;32m     36\u001b[0m \n\u001b[0;32m     37\u001b[0m \u001b[38;5;66;03m#Las cadenas son inmutables, no se pueden cambiar\u001b[39;00m\n\u001b[1;32m---> 39\u001b[0m \u001b[43mS\u001b[49m\u001b[43m[\u001b[49m\u001b[38;5;241;43m0\u001b[39;49m\u001b[43m]\u001b[49m \u001b[38;5;241m=\u001b[39m \u001b[38;5;124m\"\u001b[39m\u001b[38;5;124mz\u001b[39m\u001b[38;5;124m\"\u001b[39m\n\u001b[0;32m     41\u001b[0m \u001b[38;5;66;03m#TypeError: 'str' object does not support item assignment\u001b[39;00m\n",
      "\u001b[1;31mTypeError\u001b[0m: 'str' object does not support item assignment"
     ]
    }
   ],
   "source": [
    "#Tambien podemos empezar a contar desde el final de la cadena\n",
    "\n",
    "print(S[-1])\n",
    "\n",
    "#Podemos tambien coger trozos de la cadena usando los indices\n",
    "\n",
    "print(S[1:3])\n",
    "\n",
    "#pa\n",
    "\n",
    "print(S[1:])\n",
    "\n",
    "#pam\n",
    "\n",
    "print(S[:3])\n",
    "\n",
    "#Spa\n",
    "\n",
    "print(S[:-1])\n",
    "\n",
    "#Spa\n",
    "\n",
    "print(S[:])\n",
    "\n",
    "#Spam\n",
    "\n",
    "#Podemos concatenar cadenas\n",
    "\n",
    "print(S + \"xyz\")\n",
    "\n",
    "#Spamxyz\n",
    "\n",
    "print(S*8)\n",
    "\n",
    "#SpamSpamSpamSpamSpamSpamSpamSpam\n",
    "\n",
    "#Las cadenas son inmutables, no se pueden cambiar\n",
    "\n",
    "S[0] = \"z\"\n",
    "\n",
    "#TypeError: 'str' object does not support item assignment\n"
   ]
  },
  {
   "cell_type": "markdown",
   "metadata": {},
   "source": [
    "#### Strings y listas"
   ]
  },
  {
   "cell_type": "code",
   "execution_count": 19,
   "metadata": {},
   "outputs": [
    {
     "name": "stdout",
     "output_type": "stream",
     "text": [
      "['e', 'g', 's', 's']\n"
     ]
    },
    {
     "data": {
      "text/plain": [
       "'zgss'"
      ]
     },
     "execution_count": 19,
     "metadata": {},
     "output_type": "execute_result"
    }
   ],
   "source": [
    "# Propiedades de los objetos\n",
    "\n",
    "E = 'egss'\n",
    "L = list(E)\n",
    "print(L)\n",
    "\n",
    "#['e', 'g', 's', 's']\n",
    "\n",
    "L[0] = 'z'\n",
    "# L es ['z', 'g', 's', 's']\n",
    "\n",
    "''.join(L)\n"
   ]
  },
  {
   "cell_type": "markdown",
   "metadata": {},
   "source": [
    "#### Metodos especificos"
   ]
  },
  {
   "cell_type": "code",
   "execution_count": 25,
   "metadata": {},
   "outputs": [
    {
     "data": {
      "text/plain": [
       "9"
      ]
     },
     "execution_count": 25,
     "metadata": {},
     "output_type": "execute_result"
    }
   ],
   "source": [
    "S = 'SpamEggsSpam'\n",
    "S.find('pa')\n",
    "\n",
    "#1\n",
    "\n",
    "S.find('pa', 3)\n",
    "\n",
    "#9"
   ]
  },
  {
   "cell_type": "code",
   "execution_count": 22,
   "metadata": {},
   "outputs": [
    {
     "data": {
      "text/plain": [
       "'SXYZmEggsSXYZm'"
      ]
     },
     "execution_count": 22,
     "metadata": {},
     "output_type": "execute_result"
    }
   ],
   "source": [
    "S.replace('pa', 'XYZ')\n",
    "\n",
    "#SXYZmEggs"
   ]
  },
  {
   "cell_type": "code",
   "execution_count": 23,
   "metadata": {},
   "outputs": [
    {
     "data": {
      "text/plain": [
       "'SpamEggsSpam'"
      ]
     },
     "execution_count": 23,
     "metadata": {},
     "output_type": "execute_result"
    }
   ],
   "source": [
    "S\n",
    "\n",
    "#SpamEggsSpam porque sigue siendo inmutable"
   ]
  },
  {
   "cell_type": "code",
   "execution_count": null,
   "metadata": {},
   "outputs": [],
   "source": [
    "S.find('z')\n",
    "# Si no existe el caracter => -1"
   ]
  }
 ],
 "metadata": {
  "kernelspec": {
   "display_name": "Python 3",
   "language": "python",
   "name": "python3"
  },
  "language_info": {
   "codemirror_mode": {
    "name": "ipython",
    "version": 3
   },
   "file_extension": ".py",
   "mimetype": "text/x-python",
   "name": "python",
   "nbconvert_exporter": "python",
   "pygments_lexer": "ipython3",
   "version": "3.12.7"
  }
 },
 "nbformat": 4,
 "nbformat_minor": 2
}
