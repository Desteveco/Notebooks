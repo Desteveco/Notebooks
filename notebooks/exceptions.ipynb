{
 "cells": [
  {
   "cell_type": "markdown",
   "metadata": {},
   "source": [
    "# Exceptions\n",
    "\n",
    "## TRY / EXCEPT / FINALLY\n",
    "\n",
    "#### Sintaxis de la sentencia try\n",
    "\n",
    "La sentencia try debe de ir acompañada de except o finally y el orden normalmente es el siguiente. Las lineas de codigo entre [] se consideran opcionales y los que van acompañados de * pueden aparecer varias veces\n",
    "\n",
    "```py\n",
    "try:\n",
    "    \"codigo\"\n",
    "except [type [as value]]:\n",
    "    \"codigo\"\n",
    "except [type [as value]]:\n",
    "    \"codigo\"\n",
    "[else:\n",
    "    \"codigo\"]\n",
    "[finally:\n",
    "    \"codigo\"]\n",
    "```\n",
    "o ninguna vez:\n",
    "\n",
    "```py\n",
    "try:\n",
    "    \"codigo\"\n",
    "finally:\n",
    "    \"codigo\"\n",
    "```"
   ]
  },
  {
   "cell_type": "markdown",
   "metadata": {},
   "source": [
    "## Ejemplo"
   ]
  },
  {
   "cell_type": "code",
   "execution_count": 4,
   "metadata": {},
   "outputs": [
    {
     "name": "stdout",
     "output_type": "stream",
     "text": [
      "---------------------------------------------\n",
      "EXCEPTION RAISED AND CAUGHT\n",
      "---------------------------------------------\n",
      "\n",
      "except run\n",
      "finally run\n",
      "after run\n"
     ]
    }
   ],
   "source": [
    "abc = '-' * 45 + '\\n'\n",
    "print(abc + 'EXCEPTION RAISED AND CAUGHT' + '\\n' + abc)\n",
    "try:\n",
    "    x = 'spam'[99]\n",
    "#como nos salimos de rango, se ejecuta el except\n",
    "except IndexError:\n",
    "    print('except run')\n",
    "\n",
    "#el finally siempre se ejecuta\n",
    "finally:\n",
    "    print('finally run') \n",
    "\n",
    "#el codigo sigue ejecutandose sin romperse\n",
    "print('after run')"
   ]
  },
  {
   "cell_type": "code",
   "execution_count": 5,
   "metadata": {},
   "outputs": [
    {
     "name": "stdout",
     "output_type": "stream",
     "text": [
      "---------------------------------------------\n",
      "EXCEPTION RAISED BUT NOT CAUGHT\n",
      "finally run\n"
     ]
    },
    {
     "ename": "ZeroDivisionError",
     "evalue": "division by zero",
     "output_type": "error",
     "traceback": [
      "\u001b[1;31m---------------------------------------------------------------------------\u001b[0m",
      "\u001b[1;31mZeroDivisionError\u001b[0m                         Traceback (most recent call last)",
      "Cell \u001b[1;32mIn[5], line 3\u001b[0m\n\u001b[0;32m      1\u001b[0m \u001b[38;5;28mprint\u001b[39m(abc \u001b[38;5;241m+\u001b[39m \u001b[38;5;124m'\u001b[39m\u001b[38;5;124mEXCEPTION RAISED BUT NOT CAUGHT\u001b[39m\u001b[38;5;124m'\u001b[39m)\n\u001b[0;32m      2\u001b[0m \u001b[38;5;28;01mtry\u001b[39;00m:\n\u001b[1;32m----> 3\u001b[0m     x\u001b[38;5;241m=\u001b[39m\u001b[38;5;241;43m1\u001b[39;49m\u001b[43m \u001b[49m\u001b[38;5;241;43m/\u001b[39;49m\u001b[38;5;241;43m0\u001b[39;49m\n\u001b[0;32m      4\u001b[0m \u001b[38;5;28;01mexcept\u001b[39;00m \u001b[38;5;167;01mIndexError\u001b[39;00m:\n\u001b[0;32m      5\u001b[0m     \u001b[38;5;28mprint\u001b[39m(\u001b[38;5;124m'\u001b[39m\u001b[38;5;124mexcept run\u001b[39m\u001b[38;5;124m'\u001b[39m)\n",
      "\u001b[1;31mZeroDivisionError\u001b[0m: division by zero"
     ]
    }
   ],
   "source": [
    "print(abc + 'EXCEPTION RAISED BUT NOT CAUGHT')\n",
    "try:\n",
    "    x=1 /0\n",
    "except IndexError:\n",
    "    print('except run')\n",
    "finally:\n",
    "    print('finally run')\n",
    "print('after run')\n",
    "\n",
    "#---------------------------------------------------------------------------\n",
    "#ZeroDivisionError                         Traceback (most recent call last)\n",
    "#Cell In[3], line 3\n",
    "#      1 print(abc + 'EXCEPTION RAISED BUT NOT CAUGHT')\n",
    "#      2 try:\n",
    "#----> 3     x=1 /0\n",
    "#      4 except IndexError:\n",
    "#      5     print('except run')\n",
    "#\n",
    "#ZeroDivisionError: division by zero\n",
    "\n"
   ]
  },
  {
   "cell_type": "markdown",
   "metadata": {},
   "source": [
    "Como no se captura la excepcion, el programa se rompe y no se ejecuta el finally ni el after run, en el except no se ejecuta porque no es la excepcion que se esta buscando.\n",
    "\n",
    "Comprobar la jerarquia de las excepciones en [ESTE ENLACE](https://docs.python.org/3/library/exceptions.html)"
   ]
  }
 ],
 "metadata": {
  "kernelspec": {
   "display_name": "Python 3",
   "language": "python",
   "name": "python3"
  },
  "language_info": {
   "codemirror_mode": {
    "name": "ipython",
    "version": 3
   },
   "file_extension": ".py",
   "mimetype": "text/x-python",
   "name": "python",
   "nbconvert_exporter": "python",
   "pygments_lexer": "ipython3",
   "version": "3.12.7"
  }
 },
 "nbformat": 4,
 "nbformat_minor": 2
}
